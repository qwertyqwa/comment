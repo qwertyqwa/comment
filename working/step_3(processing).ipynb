{
 "cells": [
  {
   "cell_type": "code",
   "execution_count": null,
   "metadata": {},
   "outputs": [
    {
     "name": "stderr",
     "output_type": "stream",
     "text": [
      "[nltk_data] Downloading package stopwords to\n",
      "[nltk_data]     C:\\Users\\Shark\\AppData\\Roaming\\nltk_data...\n",
      "[nltk_data]   Package stopwords is already up-to-date!\n"
     ]
    }
   ],
   "source": [
    "import pandas as pd\n",
    "import re\n",
    "import string\n",
    "import pymorphy3\n",
    "import nltk\n",
    "\n",
    "from nltk.corpus import stopwords"
   ]
  },
  {
   "cell_type": "markdown",
   "metadata": {},
   "source": [
    "______________________________________________________________________________________________________________________________________________________________________________________\n",
    "\n",
    "Подгатовка данных"
   ]
  },
  {
   "cell_type": "code",
   "execution_count": null,
   "metadata": {},
   "outputs": [],
   "source": [
    "data = pd.read_csv('date/annotated_data.csv')\n",
    "\n",
    "\n",
    "data.drop(columns=['categories'], inplace=True)\n",
    "\n",
    "# Не забудьте скачать стоп-слова один раз\n",
    "nltk.download('stopwords')\n",
    "morph = pymorphy3.MorphAnalyzer()\n",
    "\n",
    "\n",
    "# Стоп-слова для русского языка из nltk\n",
    "stop_words_nltk = set(stopwords.words('russian')) | {'г', 'б', 'огромный', 'большой'}\n",
    "\n",
    "\n",
    "def clean_text(text):\n",
    "    punctuation = string.punctuation                                                            # Удаление пунктуации\n",
    "    \n",
    "    cleaned_text = text.translate(str.maketrans({key: ' ' for key in punctuation}))             # Применяем преобразование к тексту\n",
    "    cleaned_text = re.sub(r\"[^а-яА-ЯёЁ]\", ' ', cleaned_text)                                    # Удаление латинских букв и цифр\n",
    "    cleaned_text = re.sub(r'\\s+', ' ', cleaned_text).strip()                                    # Удаление лишних пробелов\n",
    "    cleaned_text = cleaned_text.lower().strip()                                                 # Приведение к нижнему регистру\n",
    "    tokens = cleaned_text.split()                                                               # Токенизация (разделение на слова)\n",
    "    lemmatized_tokens = [morph.parse(token)[0].normal_form for token in tokens]                 # Лемматизация с помощью pymorphy3\n",
    "    filtered_tokens = [token for token in lemmatized_tokens if token not in stop_words_nltk]    # Удаление стоп-слов (используя nltk)\n",
    "    \n",
    "    return ' '.join(filtered_tokens)\n",
    "\n",
    "\n",
    "# Применяем очистку текста к колонке 'comment'\n",
    "data['comment'] = data['comment'].apply(clean_text)\n",
    "\n",
    "# Удаляем дубли и пустые строки\n",
    "data = data[~data.duplicated('comment')]\n",
    "data = data.dropna(subset=['comment'])\n",
    "data = data[data['comment'] != '']\n",
    "\n",
    "\n",
    "data.to_csv('date/processed_data.csv', index=False)"
   ]
  }
 ],
 "metadata": {
  "kernelspec": {
   "display_name": ".venv",
   "language": "python",
   "name": "python3"
  },
  "language_info": {
   "codemirror_mode": {
    "name": "ipython",
    "version": 3
   },
   "file_extension": ".py",
   "mimetype": "text/x-python",
   "name": "python",
   "nbconvert_exporter": "python",
   "pygments_lexer": "ipython3",
   "version": "3.11.9"
  }
 },
 "nbformat": 4,
 "nbformat_minor": 2
}
